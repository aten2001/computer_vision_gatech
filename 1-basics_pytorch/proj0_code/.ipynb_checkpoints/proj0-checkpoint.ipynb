{
 "cells": [
  {
   "cell_type": "markdown",
   "metadata": {},
   "source": [
    "\n",
    "# Project 0 - Pytorch for linear algebra\n",
    "\n",
    "## Brief\n",
    "* Due:\n",
    "  * 09/01/2020 11:59PM\n",
    "\n",
    "* Hand-in: through [Gradescope](https://www.gradescope.com)\n",
    "* Required files:\n",
    "  * `<your_gt_username>.zip` on Gradescope\n",
    "  * `<yout_gt_username>.pdf` on Gradescope\n",
    "\n",
    "\n",
    "## Overview\n",
    "\n",
    "Through the projects of this course we will be working with a similar pipeline for you to program, test and submit your work. The main goal of project 0 is for you to familiarize with this workflow. By the end of this project you should be able to:\n",
    "* To setup a conda environment \n",
    "* Understand how to start the jupyter notebook\n",
    "* Complete the functions requested from you\n",
    "* Remember how to work with vector and matrices and basic operations in python and using pytorch\n",
    "* Test your code using unit tests inside the notebook and standalone with pytest\n",
    "* Create a submission file for the code\n",
    "* Use gradescope to submit your work\n",
    "\n",
    "Through out the project, you will follow this Jupyter notebook, which will guide you through general knownledge, to the code you have to write in the **student_code.py** file and test against the unit tests that can be found in **proj0_unit_tests\\test_student_code.py**.\n",
    "\n",
    "**Note**: you can run unit tests from this notebook as you go along completing each function. You can also use the ```pytest``` command from the terminal to run all the tests. It is recommended to run all the tests from the terminal before making the final submission\n",
    "\n"
   ]
  },
  {
   "cell_type": "markdown",
   "metadata": {},
   "source": [
    "## Introduction to Jupyter Notebook\n",
    "\n",
    "A jupyter notebook file is structured as executable cells. Each cell can be executed independently by clicking the Run cell icon or `Ctrl+Enter`. \n",
    "\n",
    "As you go through the notebook, you will encounter TODO tasks, which let you know that for the following cell, you will have to complete a specific function. You can find all functions that you have to write in the 'student_code.py' file. To test if the function works, you will have to restart the Kernel of the jupyter notebook (Found in Kernel -> Restart) and then reload the page. \n",
    "\n",
    "## Setup"
   ]
  },
  {
   "cell_type": "code",
   "execution_count": null,
   "metadata": {
    "pycharm": {
     "is_executing": true
    }
   },
   "outputs": [],
   "source": [
    "import os\n",
    "\n",
    "import torch\n",
    "import matplotlib.pyplot as plt\n",
    "from torchvision import datasets, transforms\n",
    "from torchvision.utils import save_image\n",
    "\n",
    "import proj0_code.student_code as sc\n",
    "import proj0_code.utils as proj0_utils\n",
    "from torchvision.utils import save_image\n",
    "\n",
    "\n",
    "# Importing tests\n",
    "from proj0_code.proj0_unit_tests.test_student_code import (test_vector_transpose, test_stack_images, test_concat_images, test_create_mask, verify)"
   ]
  },
  {
   "cell_type": "code",
   "execution_count": null,
   "metadata": {},
   "outputs": [],
   "source": [
    "%load_ext autoreload\n",
    "\n",
    "%autoreload 2\n",
    "\n",
    "%matplotlib inline"
   ]
  },
  {
   "cell_type": "markdown",
   "metadata": {},
   "source": [
    "## Section 1: Introduction to Vectors and Matrices\n",
    "\n",
    "Here we will go over the basics of vectors and a matrices, how are they defined in Pytorch, and what operation can we apply onto them.\n",
    "\n",
    "### Section 1.a: Defining vectors and Matrices\n",
    "\n",
    "In general, we will use pytorch throughout the course, which use [Tensors](https://mathworld.wolfram.com/Tensor.html) to define elements. They are defined as a multi-dimensional matrix containing elements of a single data type. \n",
    "\n",
    "\n",
    "For example, if we want to create a row vector $v_1 = [1, 2, -3]$ we can "
   ]
  },
  {
   "cell_type": "code",
   "execution_count": null,
   "metadata": {},
   "outputs": [],
   "source": [
    "v1 = torch.tensor([1., 2., -3.])\n",
    "print(v1)\n",
    "print(v1.size())\n",
    "print(v1.type())"
   ]
  },
  {
   "cell_type": "markdown",
   "metadata": {},
   "source": [
    "Note that the size is $[3]$, which means that the defined tensor is 1-dimensional. 1-D tensors are row-vectors in Pytorch."
   ]
  },
  {
   "cell_type": "markdown",
   "metadata": {},
   "source": [
    "We can also create a column vector $v_2 = [2, 4, 6]^T$ as"
   ]
  },
  {
   "cell_type": "code",
   "execution_count": null,
   "metadata": {},
   "outputs": [],
   "source": [
    "v2 = torch.tensor([[2.], [4.], [6.]])\n",
    "print(v2)\n",
    "print(v2.size())\n",
    "print(v2.type())"
   ]
  },
  {
   "cell_type": "markdown",
   "metadata": {},
   "source": [
    "which is a vector with dimensions $3x1$ and defined as a Float Tensor.\n",
    "\n",
    "Similarly, we can create a matrix \n",
    "$$M_1 = \\begin{bmatrix}1&2&3\\\\-1&-2&0\\end{bmatrix}_{2x3}$$\n"
   ]
  },
  {
   "cell_type": "code",
   "execution_count": null,
   "metadata": {},
   "outputs": [],
   "source": [
    "M1 = torch.tensor([[1., 2., 3.], [-1, -2, 0]])\n",
    "print(M1)\n",
    "print(M1.size())\n",
    "print(M1.type())"
   ]
  },
  {
   "cell_type": "markdown",
   "metadata": {},
   "source": [
    "Which is a matrix with dimensions $2 \\times 3$.\n",
    "\n",
    "### Section 1.b Scalar Multiplications\n",
    "\n",
    "Now that we have a vector and a matrix, we can make some operations onto them. We can multiply them by a scalar, $v_1 \\times 2$ or $M_1 \\times 0.3$"
   ]
  },
  {
   "cell_type": "code",
   "execution_count": null,
   "metadata": {},
   "outputs": [],
   "source": [
    "print(v1*2)\n",
    "print(M1*0.3)"
   ]
  },
  {
   "cell_type": "markdown",
   "metadata": {},
   "source": [
    "### Section 1.c Tensor Multiplication\n",
    "\n",
    "We can also multiply a matrix by a vector. Always considering that the matrix and vector dimensions are consistent. We can do $M_1 \\times v_2$ by using torch.mm (matrix multiplication), which takes a tensor with dimension $2\\times3$ times a tensor with dimension $3\\times1$ and will output a tensor with dimension $2\\times1$."
   ]
  },
  {
   "cell_type": "code",
   "execution_count": null,
   "metadata": {},
   "outputs": [],
   "source": [
    "print(M1.mm(v2))"
   ]
  },
  {
   "cell_type": "markdown",
   "metadata": {},
   "source": [
    "If we would try to multiply $M_1$ with $v_1$, we would have an error due to dimensions mismatch, since torch.mm implements the usual matrix multiplication. \n",
    "\n",
    "But we also can use the normal multiplication $*$ which will execute a elementwise multiplication. As before, if we do $M_1*2$, it multiplies each element by the constant, but if we do $M_1*v_1$ it will multyply each element of the matrix by the correspondant element of the vector as"
   ]
  },
  {
   "cell_type": "code",
   "execution_count": null,
   "metadata": {},
   "outputs": [],
   "source": [
    "print(\"M1=\", M1)\n",
    "print(\"v1=\", v1)"
   ]
  },
  {
   "cell_type": "code",
   "execution_count": null,
   "metadata": {},
   "outputs": [],
   "source": [
    "print(\"M1*v1=\")\n",
    "print(M1*v1)"
   ]
  },
  {
   "cell_type": "markdown",
   "metadata": {},
   "source": [
    "We encourage you to see how you can perform different use of the multiplication $*,$ using a matrix and a column vector or another matrix.\n",
    "\n",
    "You can also call an element of the tensor, remembering that element count starts at $0$. Considering the matrix $M_1$ which has $2$ rows and $3$ columns, if we want the $0$, it is located in the second row (index 1) and third column (index 2), such that"
   ]
  },
  {
   "cell_type": "code",
   "execution_count": null,
   "metadata": {},
   "outputs": [],
   "source": [
    "print(M1[1,2])"
   ]
  },
  {
   "cell_type": "markdown",
   "metadata": {},
   "source": [
    "### Section 1.c Transpose Operation\n",
    "\n",
    "The first code that you will have to implement, is to transpose a row vector, into a column vector.\n",
    "\n",
    "**TODO:** write the function ```vector_transpose(v)``` found in \"student_code.py\"."
   ]
  },
  {
   "cell_type": "code",
   "execution_count": null,
   "metadata": {},
   "outputs": [],
   "source": [
    "v_t = sc.vector_transpose(v1)\n",
    "\n",
    "print(v_t)"
   ]
  },
  {
   "cell_type": "markdown",
   "metadata": {},
   "source": [
    "Does the print output looks right? You are encouraged to try some more manual inputs and check the results"
   ]
  },
  {
   "cell_type": "markdown",
   "metadata": {},
   "source": [
    "**Units Test**: In this course, we will heavily rely on unit-testing to help students be confident with their submissions, and for us to grade the code. For all projects, we will supply some unit-tests to the students, and some unit-tests will be held-back and executed on gradescope.\n",
    "\n",
    "In the next cell, we will run the unit test for the ```vector_transpose``` function. If the test is successful, proceed to the further sections. Otherwise, fix your implementation."
   ]
  },
  {
   "cell_type": "code",
   "execution_count": null,
   "metadata": {},
   "outputs": [],
   "source": [
    "print(\"test_vector_transpose(): \" + verify(test_vector_transpose))"
   ]
  },
  {
   "cell_type": "markdown",
   "metadata": {},
   "source": [
    "### Section 1.d Matrix Inverse\n",
    "\n",
    "As a final element, we will look at the inverse of a matrix. Considering that we have a square matrix $A$ which is non-singular (all the columns are linearly independent), then $A^{-1}$ is a matrix, such that, $A.mm(A^{-1}) = I$, the identity matrix."
   ]
  },
  {
   "cell_type": "code",
   "execution_count": null,
   "metadata": {},
   "outputs": [],
   "source": [
    "A = torch.tensor([[1., 2., 1.],[1., 2., 0.], [-1., 2., 0.]])\n",
    "print('A =', A)\n",
    "\n",
    "A_inv = torch.inverse(A)\n",
    "print('A^-1 = ', A_inv)"
   ]
  },
  {
   "cell_type": "code",
   "execution_count": null,
   "metadata": {},
   "outputs": [],
   "source": [
    "print('Multiplication of a matrix with its inverse: ')\n",
    "print(A.mm(A_inv))"
   ]
  },
  {
   "cell_type": "markdown",
   "metadata": {},
   "source": [
    "## Section 2: Working with images\n",
    "\n",
    "In the following section we will start working with images, how to manipulate them and do basic operations. \n",
    "\n",
    "First, we will load a set of images that can be found on the imgs folder. For this project we will work on a Mount Rushmore image. Note: An image is a matrix of size $(MxNx3)$ which is an image of width of $M$ pixels, height of $N$ pixels and 3 layers corresponding to the red, green and blue values. \n",
    "\n",
    "We will create a \"list\", which is a structure that contains an ordered sequence of elements. We will create a list of images as"
   ]
  },
  {
   "cell_type": "code",
   "execution_count": null,
   "metadata": {},
   "outputs": [],
   "source": [
    "images = [] \n",
    "images.append(proj0_utils.load_image(os.path.join('imgs', 'MtRushmore.jpg')))\n",
    "images.append(proj0_utils.load_image(os.path.join('imgs', 'MtRushmore_B.png')))\n",
    "images.append(proj0_utils.load_image(os.path.join('imgs', 'MtRushmore_G.png')))\n",
    "images.append(proj0_utils.load_image(os.path.join('imgs', 'MtRushmore_R.png')))"
   ]
  },
  {
   "cell_type": "markdown",
   "metadata": {},
   "source": [
    "In this case we have four images and we can call any of these as\n"
   ]
  },
  {
   "cell_type": "code",
   "execution_count": null,
   "metadata": {},
   "outputs": [],
   "source": [
    "print(\"Type for the image list: \", type(images))\n",
    "print(\"Type for the list's first item: \", type(images[0]))\n",
    "print(\"Size of the first image: \", images[0].size())\n",
    "print(\"The image: \")\n",
    "\n",
    "fig = plt.imshow(images[0])\n",
    "\n",
    "fig.axes.get_xaxis().set_visible(False)\n",
    "fig.axes.get_yaxis().set_visible(False)"
   ]
  },
  {
   "cell_type": "code",
   "execution_count": null,
   "metadata": {},
   "outputs": [],
   "source": [
    "im = images[0]\n",
    "print(im.size())"
   ]
  },
  {
   "cell_type": "markdown",
   "metadata": {},
   "source": [
    "The image has a size of $[1305, 1920, 3]$, we can then call the first layer as im[:,:,0] which means to take the whole width, the whole height and only the layer 0 of the matrix, such that, "
   ]
  },
  {
   "cell_type": "code",
   "execution_count": null,
   "metadata": {},
   "outputs": [],
   "source": [
    "print(im[:,:,0].size())\n",
    "\n",
    "fig = plt.imshow(im[:,:,0])\n",
    "\n",
    "fig.axes.get_xaxis().set_visible(False)\n",
    "fig.axes.get_yaxis().set_visible(False)"
   ]
  },
  {
   "cell_type": "markdown",
   "metadata": {},
   "source": [
    "### Section 2.a Cropping Images\n",
    "\n",
    "Similarly, we can crop the image using indexing of the rows and columns"
   ]
  },
  {
   "cell_type": "code",
   "execution_count": null,
   "metadata": {},
   "outputs": [],
   "source": [
    "cropped_image = im[300:1000,500:1420,:]\n",
    "\n",
    "print(cropped_image.size())\n",
    "\n",
    "fig = plt.imshow(cropped_image)\n",
    "\n",
    "fig.axes.get_xaxis().set_visible(False)\n",
    "fig.axes.get_yaxis().set_visible(False)"
   ]
  },
  {
   "cell_type": "markdown",
   "metadata": {},
   "source": [
    "\n",
    "\n",
    "### Section 2b: Stacking gray images to form color images\n",
    "Image at index 1, 2 and 3 are grey-scale images of the B, G, and R channels of the original image. They are $N \\times M \\times 3$, but the three layers have the same values (and hence they are grey-scale). Thus, we want to take one layer from each image and create a new image $N \\times M \\times 3$.\n",
    "\n",
    "To run the following cells you will need to implement the ```stack_images(X,Y,Z)``` and ```concat_images(D)``` found in \"student_code.py\"."
   ]
  },
  {
   "cell_type": "code",
   "execution_count": null,
   "metadata": {
    "pycharm": {
     "is_executing": true
    }
   },
   "outputs": [],
   "source": [
    "D = sc.stack_images(images[3][:,:,0], images[2][:,:,0], images[1][:,:,0])\n",
    "\n",
    "fig = plt.imshow(D)\n",
    "\n",
    "fig.axes.get_xaxis().set_visible(False)\n",
    "fig.axes.get_yaxis().set_visible(False)\n",
    "\n",
    "print(\"test_stack_images(): \" + verify(test_stack_images))"
   ]
  },
  {
   "cell_type": "markdown",
   "metadata": {},
   "source": [
    "### Section 2c: Concatenation of color images\n",
    "\n",
    "Now that you have a color image, we want to create 2x2 block from the same image"
   ]
  },
  {
   "cell_type": "code",
   "execution_count": null,
   "metadata": {
    "pycharm": {
     "is_executing": true
    }
   },
   "outputs": [],
   "source": [
    "D1 = sc.concat_images(D)\n",
    "\n",
    "plt.imshow(D1)\n",
    "fig.axes.get_xaxis().set_visible(False)\n",
    "fig.axes.get_yaxis().set_visible(False)\n",
    "print(\"test_concat_images(): \" + verify(test_concat_images))"
   ]
  },
  {
   "cell_type": "markdown",
   "metadata": {},
   "source": [
    "# Section 3: Point Operations\n",
    "\n",
    "For the final part, we will introduce masks. When working on an image, we would like to perform some operation over certain pixel of the image. For example, we would like to delete the sky on the image. Thus we want to identify which pixels are sky. We can create a matrix of equal size as the image $MxN$ and assign a 1 or a 0 depending on a certain condition. The resulting matrix of 1s and 0s is called a mask. \n",
    "\n",
    "As the last function that you will have to write is ```create_mask(X, val)``` which take a single layer of an image and a threshold value and creates a mask of the values that are less or equal than val."
   ]
  },
  {
   "cell_type": "code",
   "execution_count": null,
   "metadata": {},
   "outputs": [],
   "source": [
    "mask = sc.create_mask(images[0][:,:,0], 0.02)\n",
    "plt.imshow(sc.stack_images(mask,mask,mask)*255)\n",
    "fig.axes.get_xaxis().set_visible(False)\n",
    "fig.axes.get_yaxis().set_visible(False)\n",
    "\n",
    "print(\"test_create_mask(): \" + verify(test_create_mask))\n"
   ]
  },
  {
   "cell_type": "markdown",
   "metadata": {},
   "source": [
    "We are doing a simple threshold, which find most of the pixels that belong to the sky, but it also find some pixel around the image. For this project we won't mind about those pixels.\n",
    "\n",
    "Once we have the mask, we can use it to modify the respective pixel of the original image. For example, we can increase the values for the sky pixels in the image. "
   ]
  },
  {
   "cell_type": "code",
   "execution_count": null,
   "metadata": {},
   "outputs": [],
   "source": [
    "D2 = D.clone()\n",
    "D2[:,:,0] = D2[:,:,0] + mask.type(torch.FloatTensor)*0.7\n",
    "\n",
    "\n",
    "plt.imshow(D2)\n",
    "fig.axes.get_xaxis().set_visible(False)\n",
    "fig.axes.get_yaxis().set_visible(False)"
   ]
  },
  {
   "cell_type": "markdown",
   "metadata": {},
   "source": [
    "# Code Testing\n",
    "\n",
    "Congrats, you have completed all the portions of this starter project. It is recommended to run all the unit tests using ```pytest``` command from the terminal before. To do this: \n",
    "\n",
    "* open the terminal and go to the directory ../proj0_code/\n",
    "* activate your proj0 environment\n",
    "* run the command `pytest proj0_unit_tests/`\n",
    "* On the terminal, you should see a green dot (.) for each unit test passed and an error message for each unit test failed.\n",
    "\n",
    "Generate the zip folder for the code portion of your submission once you've finished the project using `python zip_submission.py --gt_username <your_gt_username>`.\n",
    "\n",
    "# Writeup\n",
    "\n",
    "For this project (and all other projects), you must do a project report using the template slides provided to you at \"proj0_template.pptx\". Do <u>not</u> change the order of the slides or remove any slides, as this will affect the grading process on Gradescope and you will be deducted points. You must convert the slide deck into a PDF with the name `<your_gt_username.pdf>` for your submission.\n",
    "\n",
    "# Rubric\n",
    "\n",
    "* +20 pts: Code\n",
    "* +10 pts: PDF report\n",
    "* -2\\*n pts: Lose 2 points for every time you do not follow the instructions for the hand-in format.\n",
    "\n",
    "# Submission\n",
    "\n",
    "This is very important as you will lose 2 points for every time you do not follow the instructions. You will have two submission files for this project:\n",
    "\n",
    "1. `<your_gt_username>.zip` via **Gradescope** to 'assigment PS0 - Code'\n",
    "2. `<your_gt_username>.pdf` via **Gradescope** to 'assignment PS0 - Report'\n",
    "\n",
    "Do <u>not</u> install any additional packages inside the conda environment. The TAs will use the same environment as defined in the config files we provide you, so anything that's not in there by default will probably cause your code to break during grading. Do <u>not</u> use absolute paths in your code or your code will break. Use relative paths like the starter code already does. Failure to follow any of these instructions will lead to point deductions. Create the zip file using `python zip_submission.py --gt_username <your_gt_username>` (it will zip up the appropriate directories/files for you!) and hand it through Gradescope. Remember to submit your report as a PDF to Gradescope as well.\n",
    "\n",
    "# Credit\n",
    "Assignment developed by Sergio Aguilera, Arvind Krishnakumar, Ayush Baid, Sen Wang and Frank Dellaert."
   ]
  },
  {
   "cell_type": "markdown",
   "metadata": {},
   "source": []
  }
 ],
 "metadata": {
  "kernelspec": {
   "display_name": "Python 3",
   "language": "python",
   "name": "python3"
  },
  "language_info": {
   "codemirror_mode": {
    "name": "ipython",
    "version": 3
   },
   "file_extension": ".py",
   "mimetype": "text/x-python",
   "name": "python",
   "nbconvert_exporter": "python",
   "pygments_lexer": "ipython3",
   "version": "3.7.7"
  },
  "pycharm": {
   "stem_cell": {
    "cell_type": "raw",
    "metadata": {
     "collapsed": false
    },
    "source": []
   }
  },
  "widgets": {
   "state": {},
   "version": "1.1.2"
  }
 },
 "nbformat": 4,
 "nbformat_minor": 2
}
